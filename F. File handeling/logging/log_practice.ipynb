{
 "cells": [
  {
   "cell_type": "code",
   "execution_count": 30,
   "metadata": {},
   "outputs": [],
   "source": [
    "# old file will be removed before everytime\n",
    "import os\n",
    "os.remove(\"log_practice.log\")\n",
    "\n",
    "import logging\n",
    "\n",
    "logging.basicConfig(filename=\"log_practice.log\", level = logging.DEBUG, format=\"%(asctime)s  %(message)s\")"
   ]
  },
  {
   "cell_type": "code",
   "execution_count": 31,
   "metadata": {},
   "outputs": [
    {
     "name": "stdout",
     "output_type": "stream",
     "text": [
      "['sonu', 'saurabh', 'jakhar', 'chaudhary']\n",
      "[1, 2, 3, 4, 5, 6, 7, 8, 9]\n"
     ]
    }
   ],
   "source": [
    "# make a list\n",
    "l = [1,2,3,4,[5,6,7],\"sonu\",\"saurabh\", 8,9, [\"jakhar\",\"chaudhary\"]]\n",
    "\n",
    "#make two diffrent list with int and str\n",
    "str_list = []\n",
    "int_list = []\n",
    "\n",
    "#loop through the l\n",
    "for i in l:\n",
    "    logging.info(\"Looping list \\\"l\\\" with variable 'i'... \")\n",
    "    if type(i) == list:\n",
    "        logging.info(\"checking 'i' type is list?... \")\n",
    "        for j in i:\n",
    "            if type(j) == int:\n",
    "                logging.info(\"'j' type is int ...\" )\n",
    "                int_list.append(j)\n",
    "            else:\n",
    "                logging.info(\"'j' type is str ...\" )\n",
    "                str_list.append(j)\n",
    "    else:\n",
    "        if type(i) == int:\n",
    "            logging.info(\"'i' type is int ...\" )\n",
    "            int_list.append(i)\n",
    "        else:\n",
    "            logging.info(\"'i' type is str...\" )\n",
    "            str_list.append(i)\n",
    "\n",
    "print(str_list)\n",
    "print(int_list)\n",
    "\n",
    "logging.info(str_list)\n",
    "logging.info(int_list)\n",
    "logging.shutdown()\n"
   ]
  },
  {
   "cell_type": "code",
   "execution_count": null,
   "metadata": {},
   "outputs": [],
   "source": []
  },
  {
   "cell_type": "code",
   "execution_count": null,
   "metadata": {},
   "outputs": [],
   "source": []
  }
 ],
 "metadata": {
  "kernelspec": {
   "display_name": "Python 3",
   "language": "python",
   "name": "python3"
  },
  "language_info": {
   "codemirror_mode": {
    "name": "ipython",
    "version": 3
   },
   "file_extension": ".py",
   "mimetype": "text/x-python",
   "name": "python",
   "nbconvert_exporter": "python",
   "pygments_lexer": "ipython3",
   "version": "3.11.1"
  },
  "orig_nbformat": 4
 },
 "nbformat": 4,
 "nbformat_minor": 2
}
