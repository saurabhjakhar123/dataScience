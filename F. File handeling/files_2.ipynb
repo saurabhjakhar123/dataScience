{
 "cells": [
  {
   "cell_type": "code",
   "execution_count": 5,
   "metadata": {},
   "outputs": [],
   "source": [
    "data = {\n",
    "    \"name\" : \"saurabh\",\n",
    "    \"age\" : 23,\n",
    "    \"mobile number\" : 9874567456,\n",
    "    \"language\" : [\"hindi\",\"english\"]\n",
    "}\n"
   ]
  },
  {
   "cell_type": "code",
   "execution_count": 6,
   "metadata": {},
   "outputs": [],
   "source": [
    "import json\n",
    "# create json file with data \n",
    "with open(\"test.json\", \"w\") as f:\n",
    "    json.dump(data, f)"
   ]
  },
  {
   "cell_type": "code",
   "execution_count": 7,
   "metadata": {},
   "outputs": [
    {
     "name": "stdout",
     "output_type": "stream",
     "text": [
      "{'name': 'saurabh', 'age': 23, 'mobile number': 9874567456, 'language': ['hindi', 'english']}\n"
     ]
    }
   ],
   "source": [
    "# read data from json file\n",
    "with open(\"test.json\", \"r\") as f:\n",
    "    print_data = json.load(f)\n",
    "    print(print_data)"
   ]
  },
  {
   "cell_type": "code",
   "execution_count": 10,
   "metadata": {},
   "outputs": [
    {
     "data": {
      "text/plain": [
       "'english'"
      ]
     },
     "execution_count": 10,
     "metadata": {},
     "output_type": "execute_result"
    }
   ],
   "source": [
    "data['language'][1]"
   ]
  },
  {
   "cell_type": "markdown",
   "metadata": {},
   "source": [
    "#### create a file in csv format"
   ]
  },
  {
   "cell_type": "code",
   "execution_count": 17,
   "metadata": {},
   "outputs": [],
   "source": [
    "import csv\n",
    "csv_data = [\n",
    "    [\"name\", \"age\", \"Blood-Group\"],\n",
    "    [\"saurabh\", 23, \"B+ve\"],\n",
    "    [\"sonu\", 25, \"AB-ve\"]\n",
    "]\n",
    "\n",
    "#create a csv file\n",
    "with open(\"data.csv\", \"w\") as f:\n",
    "    csv_data_file = csv.writer(f)\n",
    "\n",
    "    for i in csv_data:\n",
    "        csv_data_file.writerow(i)"
   ]
  },
  {
   "cell_type": "code",
   "execution_count": 18,
   "metadata": {},
   "outputs": [
    {
     "name": "stdout",
     "output_type": "stream",
     "text": [
      "['name', 'age', 'Blood-Group']\n",
      "[]\n",
      "['saurabh', '23', 'B+ve']\n",
      "[]\n",
      "['sonu', '25', 'AB-ve']\n",
      "[]\n"
     ]
    }
   ],
   "source": [
    "with open(\"data.csv\", \"r\") as f:\n",
    "    read_data = csv.reader(f)\n",
    "\n",
    "\n",
    "    for i in read_data:\n",
    "        print(i)"
   ]
  },
  {
   "cell_type": "code",
   "execution_count": null,
   "metadata": {},
   "outputs": [],
   "source": []
  }
 ],
 "metadata": {
  "kernelspec": {
   "display_name": "Python 3",
   "language": "python",
   "name": "python3"
  },
  "language_info": {
   "codemirror_mode": {
    "name": "ipython",
    "version": 3
   },
   "file_extension": ".py",
   "mimetype": "text/x-python",
   "name": "python",
   "nbconvert_exporter": "python",
   "pygments_lexer": "ipython3",
   "version": "3.11.1"
  },
  "orig_nbformat": 4
 },
 "nbformat": 4,
 "nbformat_minor": 2
}
