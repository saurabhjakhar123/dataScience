{
 "cells": [
  {
   "cell_type": "code",
   "execution_count": 3,
   "metadata": {},
   "outputs": [],
   "source": [
    "import io\n",
    "\n",
    "with open (\"buffer_file.txt\", \"wb\") as f: # wb stands for \"write binary\"\n",
    "    buffer_data = io.BufferedWriter(f)\n",
    "\n",
    "    buffer_data.write(b\"My first line\\n\")\n",
    "    buffer_data.write(b\"My second line\\n\")\n",
    "\n",
    "    #close the open file\n",
    "    buffer_data.flush()"
   ]
  },
  {
   "cell_type": "code",
   "execution_count": 5,
   "metadata": {},
   "outputs": [
    {
     "name": "stdout",
     "output_type": "stream",
     "text": [
      "b'My first l'\n"
     ]
    }
   ],
   "source": [
    "# read the data\n",
    "with open (\"buffer_file.txt\", \"rb\") as f:\n",
    "    read_buffer = io.BufferedReader(f)\n",
    "\n",
    "    print(read_buffer.read(10)) # here 10 inside read method tells how much bytes we want to see"
   ]
  },
  {
   "cell_type": "code",
   "execution_count": null,
   "metadata": {},
   "outputs": [],
   "source": []
  }
 ],
 "metadata": {
  "kernelspec": {
   "display_name": "Python 3",
   "language": "python",
   "name": "python3"
  },
  "language_info": {
   "codemirror_mode": {
    "name": "ipython",
    "version": 3
   },
   "file_extension": ".py",
   "mimetype": "text/x-python",
   "name": "python",
   "nbconvert_exporter": "python",
   "pygments_lexer": "ipython3",
   "version": "3.11.1"
  },
  "orig_nbformat": 4
 },
 "nbformat": 4,
 "nbformat_minor": 2
}
