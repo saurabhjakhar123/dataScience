{
 "cells": [
  {
   "attachments": {},
   "cell_type": "markdown",
   "metadata": {},
   "source": [
    "### Oops(Object Oriented Programming)"
   ]
  },
  {
   "cell_type": "code",
   "execution_count": 3,
   "metadata": {},
   "outputs": [
    {
     "name": "stdout",
     "output_type": "stream",
     "text": [
      "<class 'str'>\n"
     ]
    }
   ],
   "source": [
    "print(type(\"string\"))"
   ]
  },
  {
   "cell_type": "code",
   "execution_count": 4,
   "metadata": {},
   "outputs": [
    {
     "name": "stdout",
     "output_type": "stream",
     "text": [
      "<class 'int'>\n"
     ]
    }
   ],
   "source": [
    "print(type(25))"
   ]
  },
  {
   "cell_type": "code",
   "execution_count": 8,
   "metadata": {},
   "outputs": [
    {
     "name": "stdout",
     "output_type": "stream",
     "text": [
      "Welcome to pwskills\n"
     ]
    }
   ],
   "source": [
    "class pwskills:\n",
    "\n",
    "    def welcome_msg():\n",
    "        print(\"Welcome to pwskills\")\n",
    "    \n",
    "pwskills.welcome_msg()"
   ]
  },
  {
   "cell_type": "code",
   "execution_count": 9,
   "metadata": {},
   "outputs": [
    {
     "ename": "TypeError",
     "evalue": "pwskills.welcome_msg() takes 0 positional arguments but 1 was given",
     "output_type": "error",
     "traceback": [
      "\u001b[1;31m---------------------------------------------------------------------------\u001b[0m",
      "\u001b[1;31mTypeError\u001b[0m                                 Traceback (most recent call last)",
      "Cell \u001b[1;32mIn[9], line 6\u001b[0m\n\u001b[0;32m      3\u001b[0m     \u001b[39mdef\u001b[39;00m \u001b[39mwelcome_msg\u001b[39m():\n\u001b[0;32m      4\u001b[0m         \u001b[39mprint\u001b[39m(\u001b[39m\"\u001b[39m\u001b[39mWelcome to pwskills\u001b[39m\u001b[39m\"\u001b[39m)\n\u001b[1;32m----> 6\u001b[0m pwskills()\u001b[39m.\u001b[39;49mwelcome_msg()\n",
      "\u001b[1;31mTypeError\u001b[0m: pwskills.welcome_msg() takes 0 positional arguments but 1 was given"
     ]
    }
   ],
   "source": [
    "class pwskills:\n",
    "\n",
    "    def welcome_msg():\n",
    "        print(\"Welcome to pwskills\")\n",
    "    \n",
    "pwskills().welcome_msg()"
   ]
  },
  {
   "cell_type": "code",
   "execution_count": 10,
   "metadata": {},
   "outputs": [
    {
     "name": "stdout",
     "output_type": "stream",
     "text": [
      "Welcome to pwskills\n"
     ]
    }
   ],
   "source": [
    "class pwskills:\n",
    "\n",
    "    def welcome_msg(self):\n",
    "        print(\"Welcome to pwskills\")\n",
    "    \n",
    "pwskills().welcome_msg()"
   ]
  },
  {
   "cell_type": "code",
   "execution_count": 18,
   "metadata": {},
   "outputs": [
    {
     "name": "stdout",
     "output_type": "stream",
     "text": [
      "Welcome saurabh!\n",
      "saurabh , saurabh123@gmail.com , 23 , 974586589\n"
     ]
    }
   ],
   "source": [
    "# to use data in method\n",
    "class student_details :\n",
    "    \"\"\"\" student details name, email, age \"\"\"\n",
    "\n",
    "    def __init__(self, name, email, age):\n",
    "        self.name = name\n",
    "        self.age = age\n",
    "        self.email = email\n",
    "        self.phone_number = None\n",
    "    \n",
    "    def welcome(self):\n",
    "        print(f\"Welcome {self.name}!\")\n",
    "    \n",
    "    def phone_num(self, number):\n",
    "        self.phone_number = number\n",
    "\n",
    "    def all_details(self):\n",
    "        print(f\"{self.name} , {self.email} , {self.age} , {self.phone_number}\")\n",
    "# define instance/variable/object for a class\n",
    "\n",
    "id_1 = student_details(\"saurabh\", \"saurabh123@gmail.com\", 23)\n",
    "id_1.phone_num(974586589)\n",
    "id_1.welcome()\n",
    "id_1.all_details()\n"
   ]
  },
  {
   "cell_type": "code",
   "execution_count": null,
   "metadata": {},
   "outputs": [],
   "source": []
  }
 ],
 "metadata": {
  "kernelspec": {
   "display_name": "Python 3",
   "language": "python",
   "name": "python3"
  },
  "language_info": {
   "codemirror_mode": {
    "name": "ipython",
    "version": 3
   },
   "file_extension": ".py",
   "mimetype": "text/x-python",
   "name": "python",
   "nbconvert_exporter": "python",
   "pygments_lexer": "ipython3",
   "version": "3.11.1"
  },
  "orig_nbformat": 4
 },
 "nbformat": 4,
 "nbformat_minor": 2
}
