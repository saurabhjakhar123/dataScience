{
 "cells": [
  {
   "cell_type": "markdown",
   "metadata": {},
   "source": [
    "### abstract"
   ]
  },
  {
   "cell_type": "code",
   "execution_count": 25,
   "metadata": {},
   "outputs": [],
   "source": [
    "import abc\n",
    "class Tea:\n",
    "    \n",
    "    @abc.abstractmethod\n",
    "    def sugar(self):\n",
    "        pass\n",
    "        \n",
    "    \n",
    "    @abc.abstractmethod\n",
    "    def milk(self):\n",
    "        pass\n",
    "\n",
    "    @abc.abstractmethod\n",
    "    def tea_powder(self):\n",
    "        pass\n"
   ]
  },
  {
   "cell_type": "code",
   "execution_count": 26,
   "metadata": {},
   "outputs": [],
   "source": [
    "class experiment_1(Tea):\n",
    "\n",
    "    def sugar(self):\n",
    "        return \"100gm sugar\"\n",
    "    \n",
    "    def milk(self):\n",
    "        return \"100ml milk\"\n",
    "\n",
    "    def tea_powder(self):\n",
    "        return \"1 Spoon tea powder\"\n"
   ]
  },
  {
   "cell_type": "code",
   "execution_count": 27,
   "metadata": {},
   "outputs": [],
   "source": [
    "class experiment_2(Tea):\n",
    "\n",
    "    def sugar(self):\n",
    "        return \"No sugar in tea\"\n",
    "    \n",
    "    def milk(self):\n",
    "        return \"100ml milk\"\n",
    "\n",
    "    def tea_powder(self):\n",
    "        return \"1 Spoon tea powder\"\n"
   ]
  },
  {
   "cell_type": "code",
   "execution_count": 28,
   "metadata": {},
   "outputs": [
    {
     "data": {
      "text/plain": [
       "'100ml milk'"
      ]
     },
     "execution_count": 28,
     "metadata": {},
     "output_type": "execute_result"
    }
   ],
   "source": [
    "exp_1 = experiment_1()\n",
    "exp_1.milk()"
   ]
  },
  {
   "cell_type": "code",
   "execution_count": 29,
   "metadata": {},
   "outputs": [
    {
     "data": {
      "text/plain": [
       "'100gm sugar'"
      ]
     },
     "execution_count": 29,
     "metadata": {},
     "output_type": "execute_result"
    }
   ],
   "source": [
    "exp_1.sugar()"
   ]
  },
  {
   "cell_type": "code",
   "execution_count": 30,
   "metadata": {},
   "outputs": [
    {
     "data": {
      "text/plain": [
       "'No sugar in tea'"
      ]
     },
     "execution_count": 30,
     "metadata": {},
     "output_type": "execute_result"
    }
   ],
   "source": [
    "exp_2 = experiment_2()\n",
    "exp_2.sugar()"
   ]
  },
  {
   "cell_type": "code",
   "execution_count": null,
   "metadata": {},
   "outputs": [],
   "source": []
  },
  {
   "cell_type": "code",
   "execution_count": null,
   "metadata": {},
   "outputs": [],
   "source": []
  }
 ],
 "metadata": {
  "kernelspec": {
   "display_name": "Python 3",
   "language": "python",
   "name": "python3"
  },
  "language_info": {
   "codemirror_mode": {
    "name": "ipython",
    "version": 3
   },
   "file_extension": ".py",
   "mimetype": "text/x-python",
   "name": "python",
   "nbconvert_exporter": "python",
   "pygments_lexer": "ipython3",
   "version": "3.11.1"
  },
  "orig_nbformat": 4
 },
 "nbformat": 4,
 "nbformat_minor": 2
}
