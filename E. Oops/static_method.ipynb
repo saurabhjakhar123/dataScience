{
 "cells": [
  {
   "cell_type": "code",
   "execution_count": 1,
   "metadata": {},
   "outputs": [],
   "source": [
    "class pwskills:\n",
    "\n",
    "    def student(self, name, id_num, mail_id ):\n",
    "        print(name, mail_id, id_num)"
   ]
  },
  {
   "cell_type": "code",
   "execution_count": 3,
   "metadata": {},
   "outputs": [
    {
     "name": "stdout",
     "output_type": "stream",
     "text": [
      "saurbh saurabh@gmail.com 55\n"
     ]
    }
   ],
   "source": [
    "pw = pwskills()\n",
    "pw.student(\"saurbh\",55, \"saurabh@gmail.com\")"
   ]
  },
  {
   "cell_type": "code",
   "execution_count": 9,
   "metadata": {},
   "outputs": [],
   "source": [
    "class pwskills_1:\n",
    "\n",
    "    @staticmethod\n",
    "    def mentors_id_list(mentors_id_list):\n",
    "        print(mentors_id_list)\n",
    "\n",
    "    @staticmethod\n",
    "    def mentors_name(mentors_name_list):\n",
    "\n",
    "        #calling a static method inside static method\n",
    "        pwskills_1.mentors_id_list([52,56,98])\n",
    "\n",
    "        print(mentors_name_list)\n",
    "    \n",
    "    @classmethod\n",
    "    def mentors_mail_id(cls, mail_ids):\n",
    "\n",
    "        #calling static method inside class method\n",
    "        cls.mentors_name([\"krish\", \"sudh\",\"sonu\"])\n",
    "\n",
    "        print(mail_ids)\n",
    "    \n",
    "    #all methods in this method is calling\n",
    "    def mentors_mobile_num(self, mobile_num):\n",
    "\n",
    "        #calling static method inside instance method\n",
    "        self.mentors_mail_id([\"krish@gmail.com\",\"sudh@gmail.com\",\"sonu@gmail.com\"])\n",
    "\n",
    "        print(mobile_num)\n"
   ]
  },
  {
   "cell_type": "code",
   "execution_count": 10,
   "metadata": {},
   "outputs": [
    {
     "name": "stdout",
     "output_type": "stream",
     "text": [
      "[52, 56, 98]\n",
      "['krish', 'sudh', 'sonu']\n"
     ]
    }
   ],
   "source": [
    "# calling static method\n",
    "pwskills_1.mentors_name([\"krish\", \"sudh\",\"sonu\"])"
   ]
  },
  {
   "cell_type": "code",
   "execution_count": 11,
   "metadata": {},
   "outputs": [
    {
     "name": "stdout",
     "output_type": "stream",
     "text": [
      "[52, 56, 98]\n",
      "['krish', 'sudh', 'sonu']\n",
      "['krish@gmail.com', 'sudh@gmail.com', 'sonu@gmail.com']\n",
      "[978546899, 85974568]\n"
     ]
    }
   ],
   "source": [
    "# calling instance method\n",
    "# first create an object/variable\n",
    "pw_1 = pwskills_1()\n",
    "pw_1.mentors_mobile_num([978546899,85974568])"
   ]
  },
  {
   "cell_type": "code",
   "execution_count": 12,
   "metadata": {},
   "outputs": [
    {
     "name": "stdout",
     "output_type": "stream",
     "text": [
      "[52, 56, 98]\n",
      "['krish', 'sudh', 'sonu']\n",
      "['krish@gmail.com', 'sudh@gmail.com', 'sonu@gmail.com']\n"
     ]
    }
   ],
   "source": [
    "#calling class method\n",
    "pwskills_1.mentors_mail_id([\"krish@gmail.com\",\"sudh@gmail.com\",\"sonu@gmail.com\"])"
   ]
  }
 ],
 "metadata": {
  "kernelspec": {
   "display_name": "Python 3",
   "language": "python",
   "name": "python3"
  },
  "language_info": {
   "codemirror_mode": {
    "name": "ipython",
    "version": 3
   },
   "file_extension": ".py",
   "mimetype": "text/x-python",
   "name": "python",
   "nbconvert_exporter": "python",
   "pygments_lexer": "ipython3",
   "version": "3.11.1"
  },
  "orig_nbformat": 4
 },
 "nbformat": 4,
 "nbformat_minor": 2
}
