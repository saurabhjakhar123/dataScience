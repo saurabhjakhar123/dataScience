{
 "cells": [
  {
   "cell_type": "code",
   "execution_count": 11,
   "metadata": {},
   "outputs": [],
   "source": [
    "\n",
    "def decorator_fun(fun):\n",
    "    print(\"Function is starting...\")\n",
    "    fun()\n",
    "    print(\"Function is ending...\")\n",
    "    "
   ]
  },
  {
   "cell_type": "code",
   "execution_count": 12,
   "metadata": {},
   "outputs": [
    {
     "name": "stdout",
     "output_type": "stream",
     "text": [
      "Function is starting...\n",
      "Running a function...\n",
      "Function is ending...\n"
     ]
    }
   ],
   "source": [
    "@decorator_fun\n",
    "def fun_1():\n",
    "    print(\"Running a function...\")"
   ]
  },
  {
   "cell_type": "code",
   "execution_count": 19,
   "metadata": {},
   "outputs": [],
   "source": [
    "import time\n",
    "def calculate_time(fun):\n",
    "    \"\"\"Calculate the time that take function to excecute\"\"\"\n",
    "    \n",
    "    time_start = time.time()\n",
    "    fun()\n",
    "    time_end = time.time()\n",
    "    print(f\"Time taken : {time_end - time_start}\")"
   ]
  },
  {
   "cell_type": "code",
   "execution_count": 25,
   "metadata": {},
   "outputs": [
    {
     "name": "stdout",
     "output_type": "stream",
     "text": [
      "Time taken : 0.08484840393066406\n"
     ]
    }
   ],
   "source": [
    "@calculate_time\n",
    "def fun_1():\n",
    "    for i in range(9999999):\n",
    "        pass"
   ]
  },
  {
   "cell_type": "code",
   "execution_count": null,
   "metadata": {},
   "outputs": [],
   "source": []
  }
 ],
 "metadata": {
  "kernelspec": {
   "display_name": "Python 3",
   "language": "python",
   "name": "python3"
  },
  "language_info": {
   "codemirror_mode": {
    "name": "ipython",
    "version": 3
   },
   "file_extension": ".py",
   "mimetype": "text/x-python",
   "name": "python",
   "nbconvert_exporter": "python",
   "pygments_lexer": "ipython3",
   "version": "3.11.1"
  },
  "orig_nbformat": 4
 },
 "nbformat": 4,
 "nbformat_minor": 2
}
