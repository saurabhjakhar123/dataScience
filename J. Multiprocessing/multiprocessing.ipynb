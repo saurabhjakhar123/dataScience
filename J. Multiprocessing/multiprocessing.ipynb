{
 "cells": [
  {
   "cell_type": "code",
   "execution_count": 6,
   "metadata": {},
   "outputs": [
    {
     "name": "stdout",
     "output_type": "stream",
     "text": [
      "My main program\n"
     ]
    }
   ],
   "source": [
    "# import multiprocessing\n",
    "import multiprocessing\n",
    "\n",
    "#create a simple program\n",
    "def test():\n",
    "    print(\"My simple program\")\n",
    "\n",
    "if __name__ == \"__main__\":\n",
    "    simple_program = multiprocessing.Process(target = test)\n",
    "    print(\"My main program\")\n",
    "    \n",
    "    #to use simple program\n",
    "    simple_program.start()\n",
    "    simple_program.join()\n",
    "  "
   ]
  },
  {
   "cell_type": "markdown",
   "metadata": {},
   "source": [
    "### multiprocessing.pool :\n",
    "#### We can define the number of process at a time"
   ]
  },
  {
   "cell_type": "code",
   "execution_count": 1,
   "metadata": {},
   "outputs": [],
   "source": [
    "import multiprocessing\n",
    "def square (num):\n",
    "    return num ** 2\n",
    "\n",
    "if __name__ == \"__main__\":\n",
    "    with multiprocessing.Pool(processes=4) as pool:\n",
    "        sq_ = pool.map(square, [1,2,3,4,5,6,7,8,9])\n",
    "        pool.close()\n",
    "        pool.join()\n",
    "        print(sq_)"
   ]
  },
  {
   "cell_type": "code",
   "execution_count": null,
   "metadata": {},
   "outputs": [],
   "source": []
  }
 ],
 "metadata": {
  "kernelspec": {
   "display_name": "Python 3",
   "language": "python",
   "name": "python3"
  },
  "language_info": {
   "codemirror_mode": {
    "name": "ipython",
    "version": 3
   },
   "file_extension": ".py",
   "mimetype": "text/x-python",
   "name": "python",
   "nbconvert_exporter": "python",
   "pygments_lexer": "ipython3",
   "version": "3.11.1"
  },
  "orig_nbformat": 4
 },
 "nbformat": 4,
 "nbformat_minor": 2
}
