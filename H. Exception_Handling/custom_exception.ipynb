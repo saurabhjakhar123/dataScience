{
 "cells": [
  {
   "cell_type": "code",
   "execution_count": 6,
   "metadata": {},
   "outputs": [],
   "source": [
    "# create a class and inherit Exception class\n",
    "class Validate_age_class(Exception):\n",
    "    def __init__(self, msg,age):\n",
    "        self.msg = msg\n",
    "        self.age = age\n"
   ]
  },
  {
   "cell_type": "code",
   "execution_count": 7,
   "metadata": {},
   "outputs": [],
   "source": [
    "# create a function to validate age\n",
    "def validate_age_fun(age):\n",
    "    if age < 0 or age > 199:\n",
    "        raise Validate_age_class(\"Age is invalid\", age)\n",
    "    else:\n",
    "        print(\"Valid Age\")\n"
   ]
  },
  {
   "cell_type": "code",
   "execution_count": 10,
   "metadata": {},
   "outputs": [
    {
     "name": "stdout",
     "output_type": "stream",
     "text": [
      "Valid Age\n"
     ]
    }
   ],
   "source": [
    "try:\n",
    "    age_input = int(input(\"Age: \"))\n",
    "    validate_age_fun(age_input)\n",
    "except Validate_age_class as v_a:\n",
    "    print(\"Error : \", v_a)"
   ]
  },
  {
   "cell_type": "code",
   "execution_count": null,
   "metadata": {},
   "outputs": [],
   "source": []
  }
 ],
 "metadata": {
  "kernelspec": {
   "display_name": "Python 3",
   "language": "python",
   "name": "python3"
  },
  "language_info": {
   "codemirror_mode": {
    "name": "ipython",
    "version": 3
   },
   "file_extension": ".py",
   "mimetype": "text/x-python",
   "name": "python",
   "nbconvert_exporter": "python",
   "pygments_lexer": "ipython3",
   "version": "3.11.1"
  },
  "orig_nbformat": 4
 },
 "nbformat": 4,
 "nbformat_minor": 2
}
