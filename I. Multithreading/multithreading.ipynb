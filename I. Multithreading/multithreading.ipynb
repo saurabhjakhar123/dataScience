{
 "cells": [
  {
   "cell_type": "code",
   "execution_count": 3,
   "metadata": {},
   "outputs": [
    {
     "name": "stdout",
     "output_type": "stream",
     "text": [
      "Running 50\n"
     ]
    }
   ],
   "source": [
    "# create a function that will excecute 10 times\n",
    "def ten_times(a):\n",
    "    print(\"Running %d\" % a)\n",
    "\n",
    "ten_times(50)"
   ]
  },
  {
   "cell_type": "code",
   "execution_count": 94,
   "metadata": {},
   "outputs": [],
   "source": [
    "#create a thread to excecute this function\n",
    "import threading\n",
    "thread_1 = [threading.Thread(target=ten_times , args=(i,))for i in range(10)]"
   ]
  },
  {
   "cell_type": "code",
   "execution_count": 95,
   "metadata": {},
   "outputs": [
    {
     "data": {
      "text/plain": [
       "[<Thread(Thread-100 (ten_times), initial)>,\n",
       " <Thread(Thread-101 (ten_times), initial)>,\n",
       " <Thread(Thread-102 (ten_times), initial)>,\n",
       " <Thread(Thread-103 (ten_times), initial)>,\n",
       " <Thread(Thread-104 (ten_times), initial)>,\n",
       " <Thread(Thread-105 (ten_times), initial)>,\n",
       " <Thread(Thread-106 (ten_times), initial)>,\n",
       " <Thread(Thread-107 (ten_times), initial)>,\n",
       " <Thread(Thread-108 (ten_times), initial)>,\n",
       " <Thread(Thread-109 (ten_times), initial)>]"
      ]
     },
     "execution_count": 95,
     "metadata": {},
     "output_type": "execute_result"
    }
   ],
   "source": [
    "thread_1"
   ]
  },
  {
   "cell_type": "code",
   "execution_count": 96,
   "metadata": {},
   "outputs": [
    {
     "name": "stdout",
     "output_type": "stream",
     "text": [
      "Running 0\n",
      "Running 1\n",
      "Running 2\n",
      "Running 3\n",
      "Running 4\n",
      "Running 5\n",
      "Running 6\n",
      "Running 7\n",
      "Running 8\n",
      "Running 9\n"
     ]
    }
   ],
   "source": [
    "for t in thread_1:\n",
    "    t.start()"
   ]
  },
  {
   "cell_type": "markdown",
   "metadata": {},
   "source": [
    "### Example 2"
   ]
  },
  {
   "cell_type": "code",
   "execution_count": 20,
   "metadata": {},
   "outputs": [],
   "source": [
    "import threading\n",
    "import urllib.request\n",
    "\n",
    "def file_download(url, filename):\n",
    "    \"\"\"Take url and store into the file\"\"\"\n",
    "    urllib.request.urlretrieve(url, filename)\n",
    "\n",
    "#url list\n",
    "url_list = [\n",
    " 'https://raw.githubusercontent.com/itsfoss/text-files/master/agatha.txt',\n",
    " 'https://raw.githubusercontent.com/itsfoss/text-files/master/sherlock.txt',\n",
    " 'https://raw.githubusercontent.com/itsfoss/text-files/master/sample_log_file.txt',\n",
    " 'https://github.com/me-saurabh8/html-file/blob/main/index.html'\n",
    " ]\n",
    "\n",
    "\n",
    "#filename list\n",
    "filename_list = [\"fileOne.txt\", \"fileTwo.txt\", \"fileThree.txt\",\"fileFour.html\"]"
   ]
  },
  {
   "cell_type": "code",
   "execution_count": 97,
   "metadata": {},
   "outputs": [],
   "source": [
    "thread_one = [threading.Thread(target=file_download, args=(url_list[i], filename_list[i], ) )for i in range(len(filename_list))]"
   ]
  },
  {
   "cell_type": "code",
   "execution_count": 98,
   "metadata": {},
   "outputs": [
    {
     "data": {
      "text/plain": [
       "[<Thread(Thread-110 (file_download), initial)>,\n",
       " <Thread(Thread-111 (file_download), initial)>,\n",
       " <Thread(Thread-112 (file_download), initial)>,\n",
       " <Thread(Thread-113 (file_download), initial)>]"
      ]
     },
     "execution_count": 98,
     "metadata": {},
     "output_type": "execute_result"
    }
   ],
   "source": [
    "thread_one"
   ]
  },
  {
   "cell_type": "code",
   "execution_count": 99,
   "metadata": {},
   "outputs": [],
   "source": [
    "for i in thread_one:\n",
    "    i.start()"
   ]
  },
  {
   "cell_type": "code",
   "execution_count": 100,
   "metadata": {},
   "outputs": [
    {
     "data": {
      "text/plain": [
       "[<Thread(Thread-110 (file_download), stopped 8088)>,\n",
       " <Thread(Thread-111 (file_download), stopped 16988)>,\n",
       " <Thread(Thread-112 (file_download), stopped 17728)>,\n",
       " <Thread(Thread-113 (file_download), started 17424)>]"
      ]
     },
     "execution_count": 100,
     "metadata": {},
     "output_type": "execute_result"
    }
   ],
   "source": [
    "thread_one"
   ]
  },
  {
   "cell_type": "markdown",
   "metadata": {},
   "source": [
    "### Example 3"
   ]
  },
  {
   "cell_type": "code",
   "execution_count": 73,
   "metadata": {},
   "outputs": [],
   "source": [
    "import time \n",
    "\n",
    "def magic_fun(id):\n",
    "    for i in range(10):\n",
    "        print(\"Id : %d ... printing : %d ... at %s\" %(id, i,time.ctime()))\n",
    "        \n",
    "        #sleep for loop for 1 ms\n",
    "        time.sleep(1)\n",
    "    "
   ]
  },
  {
   "cell_type": "code",
   "execution_count": 74,
   "metadata": {},
   "outputs": [
    {
     "name": "stdout",
     "output_type": "stream",
     "text": [
      "Id : 0 ... printing : 0 ... at Sat Jul 29 01:15:33 2023\n",
      "Id : 0 ... printing : 1 ... at Sat Jul 29 01:15:34 2023\n",
      "Id : 0 ... printing : 2 ... at Sat Jul 29 01:15:35 2023\n",
      "Id : 0 ... printing : 3 ... at Sat Jul 29 01:15:36 2023\n",
      "Id : 0 ... printing : 4 ... at Sat Jul 29 01:15:37 2023\n",
      "Id : 0 ... printing : 5 ... at Sat Jul 29 01:15:38 2023\n",
      "Id : 0 ... printing : 6 ... at Sat Jul 29 01:15:39 2023\n",
      "Id : 0 ... printing : 7 ... at Sat Jul 29 01:15:40 2023\n",
      "Id : 0 ... printing : 8 ... at Sat Jul 29 01:15:41 2023\n",
      "Id : 0 ... printing : 9 ... at Sat Jul 29 01:15:42 2023\n"
     ]
    }
   ],
   "source": [
    "magic_fun(0)"
   ]
  },
  {
   "cell_type": "code",
   "execution_count": 88,
   "metadata": {},
   "outputs": [],
   "source": [
    "import threading\n",
    "thread_two = [threading.Thread(target=magic_fun, args= (j,)) for j in range(3)]"
   ]
  },
  {
   "cell_type": "code",
   "execution_count": 89,
   "metadata": {},
   "outputs": [
    {
     "data": {
      "text/plain": [
       "[<Thread(Thread-87 (magic_fun), initial)>,\n",
       " <Thread(Thread-88 (magic_fun), initial)>,\n",
       " <Thread(Thread-89 (magic_fun), initial)>]"
      ]
     },
     "execution_count": 89,
     "metadata": {},
     "output_type": "execute_result"
    }
   ],
   "source": [
    "thread_two"
   ]
  },
  {
   "cell_type": "code",
   "execution_count": 90,
   "metadata": {},
   "outputs": [
    {
     "name": "stdout",
     "output_type": "stream",
     "text": [
      "Id : 0 ... printing : 0 ... at Sat Jul 29 01:21:11 2023\n",
      "Id : 1 ... printing : 0 ... at Sat Jul 29 01:21:11 2023\n",
      "Id : 2 ... printing : 0 ... at Sat Jul 29 01:21:11 2023\n"
     ]
    },
    {
     "name": "stdout",
     "output_type": "stream",
     "text": [
      "Id : 1 ... printing : 1 ... at Sat Jul 29 01:21:12 2023Id : 0 ... printing : 1 ... at Sat Jul 29 01:21:12 2023\n",
      "Id : 2 ... printing : 1 ... at Sat Jul 29 01:21:12 2023\n",
      "\n",
      "Id : 1 ... printing : 2 ... at Sat Jul 29 01:21:13 2023Id : 2 ... printing : 2 ... at Sat Jul 29 01:21:13 2023\n",
      "Id : 0 ... printing : 2 ... at Sat Jul 29 01:21:13 2023\n",
      "\n",
      "Id : 1 ... printing : 3 ... at Sat Jul 29 01:21:14 2023\n",
      "Id : 0 ... printing : 3 ... at Sat Jul 29 01:21:14 2023\n",
      "Id : 2 ... printing : 3 ... at Sat Jul 29 01:21:14 2023\n",
      "Id : 2 ... printing : 4 ... at Sat Jul 29 01:21:15 2023\n",
      "Id : 0 ... printing : 4 ... at Sat Jul 29 01:21:15 2023\n",
      "Id : 1 ... printing : 4 ... at Sat Jul 29 01:21:15 2023\n",
      "Id : 1 ... printing : 5 ... at Sat Jul 29 01:21:16 2023\n",
      "Id : 0 ... printing : 5 ... at Sat Jul 29 01:21:16 2023\n",
      "Id : 2 ... printing : 5 ... at Sat Jul 29 01:21:16 2023\n",
      "Id : 2 ... printing : 6 ... at Sat Jul 29 01:21:17 2023Id : 0 ... printing : 6 ... at Sat Jul 29 01:21:17 2023\n",
      "\n",
      "Id : 1 ... printing : 6 ... at Sat Jul 29 01:21:17 2023\n",
      "Id : 1 ... printing : 7 ... at Sat Jul 29 01:21:18 2023\n",
      "Id : 2 ... printing : 7 ... at Sat Jul 29 01:21:18 2023\n",
      "Id : 0 ... printing : 7 ... at Sat Jul 29 01:21:18 2023\n",
      "Id : 0 ... printing : 8 ... at Sat Jul 29 01:21:19 2023\n",
      "Id : 2 ... printing : 8 ... at Sat Jul 29 01:21:19 2023\n",
      "Id : 1 ... printing : 8 ... at Sat Jul 29 01:21:19 2023\n",
      "Id : 1 ... printing : 9 ... at Sat Jul 29 01:21:20 2023\n",
      "Id : 2 ... printing : 9 ... at Sat Jul 29 01:21:20 2023\n",
      "Id : 0 ... printing : 9 ... at Sat Jul 29 01:21:20 2023\n"
     ]
    }
   ],
   "source": [
    "for i in thread_two:\n",
    "    i.start()"
   ]
  },
  {
   "cell_type": "code",
   "execution_count": null,
   "metadata": {},
   "outputs": [],
   "source": []
  }
 ],
 "metadata": {
  "kernelspec": {
   "display_name": "Python 3",
   "language": "python",
   "name": "python3"
  },
  "language_info": {
   "codemirror_mode": {
    "name": "ipython",
    "version": 3
   },
   "file_extension": ".py",
   "mimetype": "text/x-python",
   "name": "python",
   "nbconvert_exporter": "python",
   "pygments_lexer": "ipython3",
   "version": "3.11.1"
  },
  "orig_nbformat": 4
 },
 "nbformat": 4,
 "nbformat_minor": 2
}
